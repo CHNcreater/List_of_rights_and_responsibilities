{
 "cells": [
  {
   "cell_type": "code",
   "execution_count": 1,
   "metadata": {},
   "outputs": [],
   "source": [
    "import re\n",
    "import time"
   ]
  },
  {
   "cell_type": "code",
   "execution_count": 2,
   "metadata": {},
   "outputs": [],
   "source": [
    "# <i class=\"icon icon-right\"></i>\n",
    "# class=\"icon icon-right\"\n",
    "# <li id=\"bPageNextPage\" class=\"bPageControlButton pagination-item\" style=\"display: none;\">\n",
    "def nextPage(browser,text):\n",
    "    '''\n",
    "    页面跳转到下一页\n",
    "    '''\n",
    "    pat = r'<li id=\"bPageNextPage\" class=\"bPageControlButton pagination-item\" style=\"display: none;\">'\n",
    "    if re.search(pat,text) == None:\n",
    "#         print(1111)\n",
    "        browser.find_element_by_id('bPageNextPage').click()  ## brower变成了下一页\n",
    "        time.sleep(0.5)\n",
    "        return 1\n",
    "#         return 0  ## 无法下一页\n",
    "    else:\n",
    "#         browser.find_element_by_id('bPageNextPage').click()  ## brower变成了下一页\n",
    "#         time.sleep(0.5)\n",
    "        return 0"
   ]
  },
  {
   "cell_type": "code",
   "execution_count": 3,
   "metadata": {},
   "outputs": [],
   "source": [
    "# # url = 'http://www.gdzwfw.gov.cn/portal/affairs-public-detail?qzqdCode=00288efa-bc84-4176-993f-8e08da4e56f0&amp;deptCode=MB2C94128'\n",
    "# url = 'http://www.gdzwfw.gov.cn/portal/affairs-public-detail?qzqdCode=00354c85-3de2-45bd-aa91-ea6f6d0350ba&amp;deptCode=007542689'\n",
    "# from selenium import webdriver\n",
    "# bro = webdriver.Firefox(log_path = '33.1og')\n",
    "# bro.get(url)\n",
    "# time.sleep(4)\n",
    "# text = bro.page_source\n",
    "\n",
    "# nextPage(bro,text)"
   ]
  },
  {
   "cell_type": "code",
   "execution_count": 4,
   "metadata": {},
   "outputs": [],
   "source": [
    "def replace_text(text):\n",
    "    text = text.replace('\\n','').replace('\\t','').replace(' ','')\n",
    "    return text"
   ]
  },
  {
   "cell_type": "code",
   "execution_count": 5,
   "metadata": {},
   "outputs": [],
   "source": [
    "def replace_brac(text):\n",
    "    ''' 去除掉<p...></p> <a ...> 等内容\n",
    "    而如果其中href = 后面的字符串中包含网址是特定网址\n",
    "    则保留该网址'''\n",
    "    prefix = 'http://www.gdzwfw.gov.cn'\n",
    "    urls = re.findall('href=\"(.*?)\"',text)\n",
    "#     print(urls)\n",
    "    if len(urls) == 0:\n",
    "        url = ''\n",
    "    else:\n",
    "        url = urls[0]\n",
    "        if 'gov.cn' in url:\n",
    "            if url.startswith('http'):\n",
    "                pass\n",
    "#                 url = url\n",
    "            else: ## 图片url = //static.gdzwfw.gov.cn/guide/files/21...\n",
    "                url = prefix + url\n",
    "                \n",
    "        elif url.startswith('http'): ## 点击访问\n",
    "            url = url\n",
    "        else:  ## href = javascript()\n",
    "            url = ''\n",
    "    text = re.sub('<.*?>','',text)\n",
    "    if url == '':\n",
    "        return text\n",
    "    else:\n",
    "        return text+\"(\"+url+\")\""
   ]
  },
  {
   "cell_type": "code",
   "execution_count": 6,
   "metadata": {},
   "outputs": [],
   "source": [
    "def find_urls(text):\n",
    "    pat = '<a class=\"table-item-title\" href=\"(.*?)\".*?>.*?</a></div></td>'\n",
    "    url_list = re.findall(pat,text)\n",
    "    return url_list"
   ]
  },
  {
   "cell_type": "code",
   "execution_count": 14,
   "metadata": {},
   "outputs": [],
   "source": [
    "def S_search(pat,text):\n",
    "    t = re.search(pat,text,re.S)\n",
    "    if t == None:\n",
    "        text1 = ''\n",
    "    else:\n",
    "        text1 = t.groups()[0]\n",
    "    return text1"
   ]
  },
  {
   "cell_type": "code",
   "execution_count": null,
   "metadata": {},
   "outputs": [],
   "source": [
    "## pat1 = r'<th>(.*?)</th>.*?<td>(.*?)</td>'"
   ]
  },
  {
   "cell_type": "code",
   "execution_count": 1,
   "metadata": {},
   "outputs": [],
   "source": [
    "def handle_time(v,btm):\n",
    "    '''\n",
    "    input: 法定**时限的网页源码\n",
    "    out: 格式化后的信息  [ 说明，单位，数值 ]\n",
    "    '''\n",
    "    rer = ['None','None','None']\n",
    "    res = []\n",
    "    text1 = v\n",
    "    if 'javascrip' in text1 and 'data-target' in text1:\n",
    "        patj = 'data-target=\"(.*?)\"'\n",
    "        idsx = S_search(patj,text1)\n",
    "        if idsx == \"\":\n",
    "            return rer\n",
    "        else:\n",
    "            idsx = idsx.replace('#','')\n",
    "            text2 = btm.find_all(id = idsx)\n",
    "            if len(text2) != 0:\n",
    "                text2 = str(text2[0])\n",
    "            else:\n",
    "                text2 = ''\n",
    "            patbd = '<div class=\"modal-bd\">.*?<p>(.*?)</p>'\n",
    "            text3 = S_search(patbd,text2)\n",
    "            res.append(replace_text(text3))\n",
    "        v = replace_brac(v)\n",
    "        v = replace_text(v)\n",
    "        v = re.split('[()]',v)\n",
    "        if len(v) < 2:\n",
    "            res.append('无')\n",
    "            res.append('无')\n",
    "        else:\n",
    "            res.append(v[1])\n",
    "            res.append(v[0])\n",
    "        return res\n",
    "    else:\n",
    "        return rer"
   ]
  },
  {
   "cell_type": "code",
   "execution_count": null,
   "metadata": {},
   "outputs": [],
   "source": []
  }
 ],
 "metadata": {
  "kernelspec": {
   "display_name": "Python 3",
   "language": "python",
   "name": "python3"
  },
  "language_info": {
   "codemirror_mode": {
    "name": "ipython",
    "version": 3
   },
   "file_extension": ".py",
   "mimetype": "text/x-python",
   "name": "python",
   "nbconvert_exporter": "python",
   "pygments_lexer": "ipython3",
   "version": "3.7.0"
  }
 },
 "nbformat": 4,
 "nbformat_minor": 2
}
