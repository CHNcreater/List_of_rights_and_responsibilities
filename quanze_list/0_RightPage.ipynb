{
 "cells": [
  {
   "cell_type": "code",
   "execution_count": null,
   "metadata": {},
   "outputs": [],
   "source": [
    "# '''\n",
    "# ## 定义权责清单类（即第一级别的子页面）\n",
    "# 具体类的属性在本代码最后给出\n",
    "# '''"
   ]
  },
  {
   "cell_type": "code",
   "execution_count": null,
   "metadata": {},
   "outputs": [],
   "source": [
    "from selenium import webdriver\n",
    "import re\n",
    "import time"
   ]
  },
  {
   "cell_type": "code",
   "execution_count": null,
   "metadata": {},
   "outputs": [],
   "source": [
    "import json"
   ]
  },
  {
   "cell_type": "code",
   "execution_count": null,
   "metadata": {},
   "outputs": [],
   "source": [
    "from util import nextPage"
   ]
  },
  {
   "cell_type": "code",
   "execution_count": null,
   "metadata": {},
   "outputs": [],
   "source": [
    "\n",
    "class Right:\n",
    "    \n",
    "    def __init__(self,url,idx):\n",
    "        self.page = {}\n",
    "        self.page['idx'] = idx\n",
    "        self.page['url'] = url\n",
    "    \n",
    "    def get_info(self,text):\n",
    "        ''' 获得基本信息'''\n",
    "        pat = '<label>(.*?)</label>.*?<div class=\"desc-content\".*?>(.*?)</div>'\n",
    "        infos = re.findall(pat,text,re.S)\n",
    "        for info in infos:\n",
    "            self.page[info[0]] = info[1]\n",
    "        \n",
    "    def get_urls(self,browser):\n",
    "        '''获得办事指南页面的urls'''\n",
    "        pat = '<a title=\".*?\" href=\"(.*?)\" target=\"_blank\">'\n",
    "        urls = []\n",
    "        while True:\n",
    "            time.sleep(2)\n",
    "            text = browser.page_source\n",
    "            tbody = re.search(r'<tbody>(.*?)</tbody>',text,re.S)\n",
    "            if tbody == None:\n",
    "                break\n",
    "            else:\n",
    "                tbody = tbody.groups()[0]\n",
    "            turls = re.findall(pat,tbody,re.S)\n",
    "            \n",
    "            for st_url in turls:\n",
    "                if st_url not in urls and (not st_url.startswith('http')):\n",
    "                    urls.append(st_url)  ## 解决在线申办 以及 申请材料 这两个链接的问题\n",
    "            \n",
    "#             urls.extend(turls[::2])  \n",
    "#             ''' ***在线申办*** 无效的情况下，表格每一行仅有 ***真正的url*** 和 ****申请材料*** 这两个链接重复\n",
    "#             因此通过上述手段 去重'''\n",
    "            flag = nextPage(browser,text)\n",
    "#             print(flag)\n",
    "            if flag == 0:\n",
    "#                 print('break')\n",
    "                break\n",
    "        s_urls = []\n",
    "        for turl in urls:\n",
    "            turl = turl.replace('#matters-part4','')\n",
    "            if turl not in s_urls:\n",
    "                s_urls.append(turl)\n",
    "            self.page['checklist_urls'] = s_urls\n",
    "        \n",
    "    def handle_page(self,browser):\n",
    "        text = browser.page_source\n",
    "        self.get_info(text)\n",
    "        self.get_urls(browser)"
   ]
  },
  {
   "cell_type": "code",
   "execution_count": null,
   "metadata": {},
   "outputs": [],
   "source": [
    "# test\n",
    "if __name__ == '__main__':\n",
    "    turl = 'http://www.gdzwfw.gov.cn/portal/affairs-public-duty-list?region=440300&deptCode='\n",
    "#     turl = 'http://www.gdzwfw.gov.cn/portal/affairs-public-detail?qzqdCode=00288efa-bc84-4176-993f-8e08da4e56f0&amp;deptCode=MB2C94128'\n",
    "    browser = webdriver.Firefox(log_path = \"webdriver.log\")\n",
    "    browser.get(turl)\n",
    "    time.sleep(0.5)\n",
    "\n",
    "    right = Right(turl,0)\n",
    "    right.handle_page(browser)\n",
    "\n",
    "#     browser.close()\n",
    "    \n",
    "    with open('11.json','w+',encoding = 'utf-8') as fout:\n",
    "        tmp = json.dumps(dict(right.page.items()),ensure_ascii=False,indent = 4)\n",
    "        fout.write(tmp+'\\n')\n",
    "        fout.write('----------下一级页面----------')\n",
    "\n",
    "#     for k,v in right.page.items():\n",
    "#         print(k,v)\n",
    "    \n",
    "# '''\n",
    "# output:\n",
    "# 行使主体 深圳市规划和自然资源局（深圳市海洋渔业局、深圳市林业局）\n",
    "# 编码 440217281000\n",
    "# 类别 行政处罚\n",
    "# 依据 中华人民共和国渔业港航监督行政处罚规定 中华人...\n",
    "# 责任事项 \n",
    "# urls ['/portal/guide/11440300MB2C94128A3440217281000']\n",
    "# '''"
   ]
  },
  {
   "cell_type": "code",
   "execution_count": null,
   "metadata": {},
   "outputs": [],
   "source": []
  }
 ],
 "metadata": {
  "kernelspec": {
   "display_name": "Python 3",
   "language": "python",
   "name": "python3"
  },
  "language_info": {
   "codemirror_mode": {
    "name": "ipython",
    "version": 3
   },
   "file_extension": ".py",
   "mimetype": "text/x-python",
   "name": "python",
   "nbconvert_exporter": "python",
   "pygments_lexer": "ipython3",
   "version": "3.7.0"
  }
 },
 "nbformat": 4,
 "nbformat_minor": 2
}
