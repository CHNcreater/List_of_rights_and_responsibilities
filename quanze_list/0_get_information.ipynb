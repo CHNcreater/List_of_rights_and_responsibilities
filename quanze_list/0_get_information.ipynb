{
 "cells": [
  {
   "cell_type": "markdown",
   "metadata": {},
   "source": [
    "### Q1 如果有些表格填的是无 那么有内容时的内容格式一定是string吗\n",
    "example: 审批结果的那些表头\n",
    "\n",
    "### Q2 如果现在是汉字 后面是否一定是汉字\n",
    "e.g. 匹配涉及到 [\\u4e00-\\u9fa9]"
   ]
  },
  {
   "cell_type": "code",
   "execution_count": 1,
   "metadata": {},
   "outputs": [],
   "source": [
    "from selenium import webdriver\n",
    "import re\n",
    "\n",
    "import time\n",
    "\n",
    "from bs4 import BeautifulSoup\n",
    "\n",
    "from util import *\n",
    "from RightPage import Right\n",
    "\n",
    "import json"
   ]
  },
  {
   "cell_type": "code",
   "execution_count": 2,
   "metadata": {},
   "outputs": [],
   "source": [
    "import os"
   ]
  },
  {
   "cell_type": "code",
   "execution_count": 3,
   "metadata": {},
   "outputs": [],
   "source": [
    "from GuidePage import Guide"
   ]
  },
  {
   "cell_type": "code",
   "execution_count": null,
   "metadata": {},
   "outputs": [],
   "source": [
    "# def find_parts(text):\n",
    "#     '''\n",
    "#     处理home page 得到所有部门的页面list\n",
    "#     '''\n",
    "#     part_dict = {}\n",
    "#     pat = r'<li id=\"10400000...\".*?><a href=\".*?\" onclick=\"queryByDept(.*?),this,.*?\".*?>(.*?)</a></li>'\n",
    "#     parts = re.findall(pat,text)\n",
    "#     for a,b in parts:\n",
    "#         a = a.replace('(','').replace(\"'\",'')\n",
    "#         b = b.replace(')','')\n",
    "#         part_dict[b] = a\n",
    "    \n",
    "#     return part_dict"
   ]
  },
  {
   "cell_type": "code",
   "execution_count": null,
   "metadata": {},
   "outputs": [],
   "source": [
    "# #测试RightPage 类可否解析\n",
    "# turl = 'http://www.gdzwfw.gov.cn/portal/affairs-public-detail?qzqdCode=00288efa-bc84-4176-993f-8e08da4e56f0&deptCode=MB2C94128'\n",
    "# browser = webdriver.Firefox(log_path = \"webdriver.log\")\n",
    "# browser.get(turl)\n",
    "# time.sleep(0.5)\n",
    "\n",
    "# right = Right(turl,0)\n",
    "# right.handle_page(browser)\n",
    "\n",
    "# browser.close()\n",
    "\n",
    "# for k,v in right.page.items():\n",
    "#         print(k,v)\n",
    "            \n",
    "    "
   ]
  },
  {
   "cell_type": "code",
   "execution_count": null,
   "metadata": {},
   "outputs": [],
   "source": [
    "# # 测试GuidePage 类可否解析\n",
    "# # turl = 'http://www.gdzwfw.gov.cn/portal/guide/11440300MB2C94128A3440217281000'\n",
    "# turl = 'http://www.gdzwfw.gov.cn/portal/guide/11440300693966093K3440101003001'\n",
    "# # turl = 'http://www.gdzwfw.gov.cn/portal/guide/11440300693966093K3442001033001'\n",
    "# browser = webdriver.Firefox(log_path = \"webdriver.log\")\n",
    "# browser.get(turl)\n",
    "# time.sleep(2)\n",
    "# text = browser.page_source\n",
    "# # browser.close()\n",
    "\n",
    "\n",
    "# guide = Guide(browser,text,turl,0,0)\n",
    "# guide.handle_guide()\n",
    "# with open('3.json','w+',encoding='utf-8') as fout:\n",
    "#     guide.disp(fout)\n",
    "#     fout.write('***********分隔符******************')"
   ]
  },
  {
   "cell_type": "code",
   "execution_count": 4,
   "metadata": {},
   "outputs": [],
   "source": [
    "path1 = 'sfdrive\\geckodriver.exe'"
   ]
  },
  {
   "cell_type": "code",
   "execution_count": 5,
   "metadata": {},
   "outputs": [],
   "source": [
    "# browser = webdriver.Firefox(executable_path = 'sfdrive\\geckodriver.exe')"
   ]
  },
  {
   "cell_type": "code",
   "execution_count": 6,
   "metadata": {},
   "outputs": [],
   "source": [
    "region_code = '''440000 广东省\n",
    "440100 广州市\n",
    "440400 珠海市\n",
    "440500 汕头市 \n",
    "440600 佛山市\n",
    "440200 韶关市\n",
    "441600 河源市 \n",
    "441400 梅州市\n",
    "441300 惠州市\n",
    "441500 汕尾市\n",
    "441900 东莞市\n",
    "442000 中山市\n",
    "440700 江门市\n",
    "441700 阳江市\n",
    "440800 湛江市\n",
    "440900 茂名市\n",
    "441200 肇庆市\n",
    "441800 清远市\n",
    "445100 潮州市\n",
    "445200 揭阳市\n",
    "445300 云浮市'''"
   ]
  },
  {
   "cell_type": "code",
   "execution_count": 9,
   "metadata": {},
   "outputs": [],
   "source": [
    "# hurl = 'http://www.gdzwfw.gov.cn/portal/affairs-public-duty-list?region=440300&deptCode='\n",
    "# hurl = 'http://www.gdzwfw.gov.cn/portal/affairs-public-duty-list?region=440300&deptCode=693966093'\n",
    "# browser = webdriver.Firefox(log_path = \"webdriver.log\")\n",
    "# browser = webdriver.Firefox(executable='fdriver/geckodriver.exe')\n",
    "def run_spider(hurl,datapath):\n",
    "    browser = webdriver.Firefox(executable_path = path1)\n",
    "    browser.get(hurl)\n",
    "    time.sleep(0.5)\n",
    "\n",
    "    browser_rt = webdriver.Firefox(executable_path = path1)\n",
    "    browser_gd = webdriver.Firefox(executable_path = path1)\n",
    "\n",
    "    prefix = 'http://www.gdzwfw.gov.cn'\n",
    "\n",
    "    text = browser.page_source \n",
    "\n",
    "    #### 关于 args 等信息 在py文件中修改\n",
    "\n",
    "    count = 0\n",
    "    count1 = 0\n",
    "    rt_idx = 0\n",
    "    while True:\n",
    "        level1_url_list = find_urls(text)  ## 拿到主页下的list\n",
    "  \n",
    "        for lev_url in level1_url_list:\n",
    "            lev_url = lev_url.replace('amp;','')\n",
    "            url = prefix + lev_url\n",
    "            browser_rt.get(url)\n",
    "            time.sleep(1)\n",
    "\n",
    "            right = Right(url,rt_idx)\n",
    "            right.handle_page(browser_rt)\n",
    "            \n",
    "#             if '441900' in hurl:  ## 河源\n",
    "#                 if rt_idx <= 3430:#130\n",
    "#                     rt_idx += len(level1_url_list)\n",
    "#                     flag = nextPage(browser,text)\n",
    "#                     time.sleep(2)\n",
    "#                     text = browser.page_source\n",
    "#                     continue\n",
    "            \n",
    "            with open(datapath+str(rt_idx)+'.json','w+',encoding='utf-8') as fout:\n",
    "                tmp = json.dumps(dict(right.page.items()),ensure_ascii=False,indent = 4)\n",
    "                fout.write(tmp+'\\n')\n",
    "    #             fout.write('----------NextLevel----------')\n",
    "\n",
    "                rt_idx += 1\n",
    "   \n",
    "                check_list = right.page['checklist_urls']\n",
    "\n",
    "                pid = 0\n",
    "                for curl in check_list:\n",
    "                    pid += 1\n",
    "                    ppid = str(rt_idx-1)+'_'+str(pid-1)\n",
    "                    curl = prefix+curl\n",
    "\n",
    "                    n = browser_gd.window_handles\n",
    "                    browser_gd.switch_to_window(n[0])\n",
    "                    browser_gd.get(curl)\n",
    "\n",
    "                    count1 += 1\n",
    "                    time.sleep(1)\n",
    "                    text2 = browser_gd.page_source\n",
    "                    try:\n",
    "                        guide = Guide(browser_gd,text2,curl,rt_idx-1,ppid)\n",
    "                        guide.handle_guide()\n",
    "                        guide.disp(fout)\n",
    "                    except:\n",
    "                        pass\n",
    "\n",
    "                    if len(guide.qas.content)!=0:\n",
    "                        browser_gd.close()\n",
    "\n",
    "\n",
    "    #     break\n",
    "        flag = nextPage(browser,text)\n",
    "    #     print(flag)\n",
    "        if flag == 0:\n",
    "            break\n",
    "\n",
    "        time.sleep(2)\n",
    "        text = browser.page_source\n",
    "        count += 1\n",
    "    #     if count >= 2:\n",
    "    #         break\n",
    "\n",
    "    browser.close()\n",
    "    browser_rt.close()\n",
    "    browser_gd.close()"
   ]
  },
  {
   "cell_type": "code",
   "execution_count": 8,
   "metadata": {},
   "outputs": [],
   "source": [
    "region = region_code.split('\\n')\n",
    "# print(len(region))"
   ]
  },
  {
   "cell_type": "code",
   "execution_count": null,
   "metadata": {},
   "outputs": [],
   "source": [
    "# swh 01\n",
    "# cfx 23\n",
    "# zyy 45\n",
    "# xc 67\n",
    "# lzx 89\n",
    "# wzz 10 11\n",
    "# cyg 12 13 师姐 fny\n",
    "# lcn 14 15\n",
    "# wxp 16 17\n",
    "# cy 18 19\n",
    "# wg 20\n",
    "# sz = ['440300 深圳市']\n",
    "\n",
    "# hurl = 'http://www.gdzwfw.gov.cn/portal/affairs-public-duty-list?region=440300&deptCode=693966093'\n",
    "# run_spider(hurl,'data1/')\n",
    "\n",
    "for reg in region[4:5]:\n",
    "# for reg in sz:\n",
    "    reg = reg.split(' ')\n",
    "    datapath = reg[1]+'/'\n",
    "    if not os.path.exists(datapath):\n",
    "        os.makedirs(datapath)\n",
    "    hurl = 'http://www.gdzwfw.gov.cn/portal/affairs-public-duty-list?region={}&deptCode='.format(reg[0])\n",
    "    run_spider(hurl,datapath)"
   ]
  },
  {
   "cell_type": "code",
   "execution_count": null,
   "metadata": {},
   "outputs": [],
   "source": []
  }
 ],
 "metadata": {
  "kernelspec": {
   "display_name": "Python 3",
   "language": "python",
   "name": "python3"
  },
  "language_info": {
   "codemirror_mode": {
    "name": "ipython",
    "version": 3
   },
   "file_extension": ".py",
   "mimetype": "text/x-python",
   "name": "python",
   "nbconvert_exporter": "python",
   "pygments_lexer": "ipython3",
   "version": "3.7.0"
  }
 },
 "nbformat": 4,
 "nbformat_minor": 2
}
