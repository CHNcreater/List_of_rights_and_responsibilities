{
 "cells": [
  {
   "cell_type": "code",
   "execution_count": 1,
   "metadata": {},
   "outputs": [],
   "source": [
    "import json"
   ]
  },
  {
   "cell_type": "code",
   "execution_count": 9,
   "metadata": {},
   "outputs": [],
   "source": [
    "def handle_indent(lines):\n",
    "    '''\n",
    "    处理包含有indent的数据\n",
    "    input: lines\n",
    "    outpur :  list[dict,dict]\n",
    "    '''\n",
    "    res_lst = []\n",
    "    res = ''\n",
    "    for line in lines:\n",
    "        line = line.replace('\\n','')\n",
    "        if line == '{':\n",
    "            line = line.strip()\n",
    "            res = '{'\n",
    "        elif line == '}':\n",
    "            line = line.strip()\n",
    "#             print('*****')\n",
    "            res += line\n",
    "            rt =eval(res)\n",
    "            res_lst.append(rt)\n",
    "#             print(rt)\n",
    "        else:\n",
    "            line = line.strip()\n",
    "            res += line\n",
    "    return res_lst"
   ]
  },
  {
   "cell_type": "code",
   "execution_count": 2,
   "metadata": {},
   "outputs": [],
   "source": [
    "with open('0.json','r',encoding='utf-8') as f:\n",
    "#     aa = json.load(f)\n",
    "    lines = f.readlines()\n",
    "f.close()"
   ]
  },
  {
   "cell_type": "code",
   "execution_count": 11,
   "metadata": {},
   "outputs": [],
   "source": [
    "res_lst = handle_indent(lines)"
   ]
  },
  {
   "cell_type": "code",
   "execution_count": 15,
   "metadata": {},
   "outputs": [],
   "source": [
    "with open('0000.json','w+',encoding = 'utf-8') as f:\n",
    "    json.dump(res_lst,f,ensure_ascii = False,indent = 4)\n",
    "f.close()\n"
   ]
  },
  {
   "cell_type": "markdown",
   "metadata": {},
   "source": [
    "### 加载数据"
   ]
  },
  {
   "cell_type": "code",
   "execution_count": 16,
   "metadata": {},
   "outputs": [],
   "source": [
    "with open('0000.json','r',encoding = 'utf-8') as f:\n",
    "    clst = json.load(f)\n",
    "f.close()"
   ]
  },
  {
   "cell_type": "code",
   "execution_count": null,
   "metadata": {},
   "outputs": [],
   "source": []
  }
 ],
 "metadata": {
  "kernelspec": {
   "display_name": "Python 3",
   "language": "python",
   "name": "python3"
  },
  "language_info": {
   "codemirror_mode": {
    "name": "ipython",
    "version": 3
   },
   "file_extension": ".py",
   "mimetype": "text/x-python",
   "name": "python",
   "nbconvert_exporter": "python",
   "pygments_lexer": "ipython3",
   "version": "3.7.0"
  }
 },
 "nbformat": 4,
 "nbformat_minor": 2
}
