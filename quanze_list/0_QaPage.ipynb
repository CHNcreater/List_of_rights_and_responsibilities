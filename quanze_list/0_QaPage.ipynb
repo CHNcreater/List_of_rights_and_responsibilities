{
 "cells": [
  {
   "cell_type": "code",
   "execution_count": 2,
   "metadata": {},
   "outputs": [],
   "source": [
    "from selenium import webdriver\n",
    "import re\n",
    "\n",
    "import time\n",
    "\n",
    "from bs4 import BeautifulSoup\n",
    "\n",
    "from util import *\n",
    "from RightPage import Right\n",
    "\n",
    "import json"
   ]
  },
  {
   "cell_type": "code",
   "execution_count": 59,
   "metadata": {},
   "outputs": [],
   "source": [
    "class BasicQas:\n",
    "    \n",
    "    def __init__(self,browser):\n",
    "        self.browser = browser\n",
    "        xpath = '//*[@id=\"matters-detail\"]/div[1]/div[2]/div[1]/div/div/div[2]/div[4]/div[2]/div[1]/div[2]/ul/a'\n",
    "        self.browser.find_element_by_xpath(xpath).click()\n",
    "        n = self.browser.window_handles\n",
    "        print(n)\n",
    "        self.browser.switch_to_window(n[-1])\n",
    "        self.qatext = self.browser.page_source\n",
    "        \n",
    "        soup = BeautifulSoup(self.qatext,'lxml')\n",
    "        self.qas = soup.find_all(class_ = 'matters-faq')\n",
    "        \n",
    "        \n",
    "    def get_qas(self):\n",
    "        res = []\n",
    "        qas = self.qas[0]\n",
    "        items = qas.find_all(class_=\"matters-faq-item\")\n",
    "        for item in items:\n",
    "            tdict = {}\n",
    "            item = str(item)\n",
    "            q = S_search('<div class=\"matters-faq-question\">(.*?)</div>',item)\n",
    "            tdict['问题'] = q\n",
    "            ans = S_search('<div class=\"matters-faq-answer\">(.*?)</div>',item)\n",
    "            tdict['答案'] = ans\n",
    "            res.append(tdict)\n",
    "        print(res)"
   ]
  },
  {
   "cell_type": "code",
   "execution_count": 61,
   "metadata": {},
   "outputs": [
    {
     "name": "stdout",
     "output_type": "stream",
     "text": [
      "[{'问题': '问：外商投资项目核准(新增)、企业投资项目核准（新增）和企业投资项目备案是否收费？', '答案': '答：不收费。'}]\n"
     ]
    }
   ],
   "source": [
    "qas.get_qas()"
   ]
  },
  {
   "cell_type": "code",
   "execution_count": 60,
   "metadata": {},
   "outputs": [
    {
     "name": "stderr",
     "output_type": "stream",
     "text": [
      "C:\\Users\\as\\Anaconda3\\lib\\site-packages\\ipykernel_launcher.py:1: DeprecationWarning: use driver.switch_to.window instead\n",
      "  \"\"\"Entry point for launching an IPython kernel.\n",
      "C:\\Users\\as\\Anaconda3\\lib\\site-packages\\ipykernel_launcher.py:9: DeprecationWarning: use driver.switch_to.window instead\n",
      "  if __name__ == '__main__':\n"
     ]
    },
    {
     "name": "stdout",
     "output_type": "stream",
     "text": [
      "['18', '6442450989', '6442450979', '6442450969', '6442450959', '6442450949']\n"
     ]
    }
   ],
   "source": [
    "browser.switch_to_window('18')\n",
    "qas = BasicQas(browser)"
   ]
  },
  {
   "cell_type": "code",
   "execution_count": 31,
   "metadata": {},
   "outputs": [
    {
     "data": {
      "text/plain": [
       "[<div class=\"matters-faq\">\n",
       " <h1 class=\"matters-faq-title\">企业投资项目核准（新增）</h1>\n",
       " <div class=\"matters-faq-special\"></div>\n",
       " <h2 class=\"gd-title gd-title-ul\">常见问题</h2>\n",
       " <div class=\"matters-faq-list\" id=\"faqContent\"><div class=\"matters-faq-item\"><div class=\"matters-faq-question\">问：外商投资项目核准(新增)、企业投资项目核准（新增）和企业投资项目备案是否收费？</div><div class=\"matters-faq-answer\">答：不收费。</div></div></div>\n",
       " <div class=\"matters-faq-pagination\" id=\"pagination\" style=\"display: block;\">\n",
       " <ul class=\"pagination\"><li class=\"bPageControlButton pagination-item\" id=\"bPagePreviousPage\" style=\"display: none;\"><a class=\"pagination-link\" href=\"javascript:void(0);\"><i class=\"icon icon-left\"></i></a></li><li class=\"bPageInfo pagination-item\" id=\"bPageInfo\"><input class=\"pagination-input\" id=\"bpageValue\" onafterpaste=\"onAfterPaste(this)\" onkeyup=\"onKeyUp(this)\" type=\"text\" value=\"1\"/>/ 0<a class=\"pagination-submit\" href=\"javascript:;\" id=\"bpageGo\">跳转</a></li><li class=\"bPageControlButton pagination-item\" id=\"bPageNextPage\" style=\"display: none;\"><a class=\"pagination-link\" href=\"javascript:void(0);\"><i class=\"icon icon-right\"></i></a></li></ul></div>\n",
       " </div>]"
      ]
     },
     "execution_count": 31,
     "metadata": {},
     "output_type": "execute_result"
    }
   ],
   "source": [
    "qas.soup.find_all(class_ = 'matters-faq')"
   ]
  },
  {
   "cell_type": "code",
   "execution_count": null,
   "metadata": {},
   "outputs": [],
   "source": []
  },
  {
   "cell_type": "code",
   "execution_count": null,
   "metadata": {},
   "outputs": [],
   "source": [
    "# conn = pymssql.connect(host='localhost',server='.',user='sa',password='XXXX', database='aaa',charset=\"CP936\")"
   ]
  },
  {
   "cell_type": "code",
   "execution_count": null,
   "metadata": {},
   "outputs": [],
   "source": [
    "# SQLServer_connect(config_dict)这里可以加入try except 来打印错误类型以及"
   ]
  },
  {
   "cell_type": "code",
   "execution_count": 2,
   "metadata": {},
   "outputs": [
    {
     "name": "stdout",
     "output_type": "stream",
     "text": [
      "Database version : 5.7.20-log \n"
     ]
    }
   ],
   "source": [
    "import pymysql\n",
    "\n",
    "db = pymysql.connect(\"localhost\",\"root\",\"19970206\",\"song\" ) # 打开数据库连接\n",
    "cursor = db.cursor()\n",
    "cursor.execute(\"SELECT VERSION()\")                    # 使用 execute() 方法执行 SQL 查询\n",
    "data = cursor.fetchone()                              # 使用 fetchone() 方法获取单条数据\n",
    "print (\"Database version : %s \" % data)\n",
    "db.close()                                            # 关闭数据库连接"
   ]
  },
  {
   "cell_type": "code",
   "execution_count": null,
   "metadata": {},
   "outputs": [],
   "source": []
  }
 ],
 "metadata": {
  "kernelspec": {
   "display_name": "Python 3",
   "language": "python",
   "name": "python3"
  },
  "language_info": {
   "codemirror_mode": {
    "name": "ipython",
    "version": 3
   },
   "file_extension": ".py",
   "mimetype": "text/x-python",
   "name": "python",
   "nbconvert_exporter": "python",
   "pygments_lexer": "ipython3",
   "version": "3.7.0"
  }
 },
 "nbformat": 4,
 "nbformat_minor": 2
}
